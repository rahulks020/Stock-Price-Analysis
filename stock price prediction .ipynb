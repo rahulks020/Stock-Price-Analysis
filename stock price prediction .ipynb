{
 "cells": [
  {
   "cell_type": "markdown",
   "metadata": {},
   "source": [
    "# Stock Price Analysis using Linear Regression"
   ]
  },
  {
   "cell_type": "markdown",
   "metadata": {},
   "source": [
    "#### The stock market is known to be a complex adaptive system that is difficult to predict due to the large number of factors that determine the day to day price changes. We do this in machine learning through regression which tries to determine the relationship between a dependent variable and one or more independent variables. Here, the independent variables are the features and the dependent variable that we would like to predict is the price."
   ]
  },
  {
   "cell_type": "code",
   "execution_count": 55,
   "metadata": {},
   "outputs": [],
   "source": [
    "#importing the libraries\n",
    "import pandas as pd\n",
    "import numpy as np\n",
    "from sklearn import linear_model\n",
    "import matplotlib.pyplot as plt \n",
    "dataset=pd.read_csv(\"C:\\\\Users\\\\DELL\\\\stock.csv\")  #path of the data set\n",
    "dates = []\n",
    "prices = []\n",
    "dates=dataset.iloc[:,[0]].values                   #take only those independent features which we have to use in our model\n",
    "prices=dataset.iloc[:,[1]].values                  #take only those dependent features which we have to use in our model "
   ]
  },
  {
   "cell_type": "markdown",
   "metadata": {},
   "source": [
    "#### We will be predicting the future price of  stock using simple linear regression using the previous stock price. The data that we will be using is real data obtained internet saved to a CSV file"
   ]
  },
  {
   "cell_type": "code",
   "execution_count": 56,
   "metadata": {},
   "outputs": [
    {
     "data": {
      "text/html": [
       "<div>\n",
       "<style scoped>\n",
       "    .dataframe tbody tr th:only-of-type {\n",
       "        vertical-align: middle;\n",
       "    }\n",
       "\n",
       "    .dataframe tbody tr th {\n",
       "        vertical-align: top;\n",
       "    }\n",
       "\n",
       "    .dataframe thead th {\n",
       "        text-align: right;\n",
       "    }\n",
       "</style>\n",
       "<table border=\"1\" class=\"dataframe\">\n",
       "  <thead>\n",
       "    <tr style=\"text-align: right;\">\n",
       "      <th></th>\n",
       "      <th>26</th>\n",
       "      <th>708.58</th>\n",
       "    </tr>\n",
       "  </thead>\n",
       "  <tbody>\n",
       "    <tr>\n",
       "      <th>0</th>\n",
       "      <td>25</td>\n",
       "      <td>700.01</td>\n",
       "    </tr>\n",
       "    <tr>\n",
       "      <th>1</th>\n",
       "      <td>24</td>\n",
       "      <td>688.92</td>\n",
       "    </tr>\n",
       "    <tr>\n",
       "      <th>2</th>\n",
       "      <td>23</td>\n",
       "      <td>701.45</td>\n",
       "    </tr>\n",
       "    <tr>\n",
       "      <th>3</th>\n",
       "      <td>22</td>\n",
       "      <td>707.45</td>\n",
       "    </tr>\n",
       "    <tr>\n",
       "      <th>4</th>\n",
       "      <td>19</td>\n",
       "      <td>695.03</td>\n",
       "    </tr>\n",
       "    <tr>\n",
       "      <th>5</th>\n",
       "      <td>18</td>\n",
       "      <td>710.00</td>\n",
       "    </tr>\n",
       "    <tr>\n",
       "      <th>6</th>\n",
       "      <td>17</td>\n",
       "      <td>699.00</td>\n",
       "    </tr>\n",
       "    <tr>\n",
       "      <th>7</th>\n",
       "      <td>16</td>\n",
       "      <td>692.98</td>\n",
       "    </tr>\n",
       "    <tr>\n",
       "      <th>8</th>\n",
       "      <td>12</td>\n",
       "      <td>690.26</td>\n",
       "    </tr>\n",
       "    <tr>\n",
       "      <th>9</th>\n",
       "      <td>11</td>\n",
       "      <td>675.00</td>\n",
       "    </tr>\n",
       "    <tr>\n",
       "      <th>10</th>\n",
       "      <td>10</td>\n",
       "      <td>686.86</td>\n",
       "    </tr>\n",
       "    <tr>\n",
       "      <th>11</th>\n",
       "      <td>9</td>\n",
       "      <td>672.32</td>\n",
       "    </tr>\n",
       "    <tr>\n",
       "      <th>12</th>\n",
       "      <td>8</td>\n",
       "      <td>667.85</td>\n",
       "    </tr>\n",
       "    <tr>\n",
       "      <th>13</th>\n",
       "      <td>5</td>\n",
       "      <td>703.87</td>\n",
       "    </tr>\n",
       "    <tr>\n",
       "      <th>14</th>\n",
       "      <td>4</td>\n",
       "      <td>722.81</td>\n",
       "    </tr>\n",
       "    <tr>\n",
       "      <th>15</th>\n",
       "      <td>3</td>\n",
       "      <td>770.22</td>\n",
       "    </tr>\n",
       "    <tr>\n",
       "      <th>16</th>\n",
       "      <td>2</td>\n",
       "      <td>784.50</td>\n",
       "    </tr>\n",
       "    <tr>\n",
       "      <th>17</th>\n",
       "      <td>1</td>\n",
       "      <td>750.46</td>\n",
       "    </tr>\n",
       "  </tbody>\n",
       "</table>\n",
       "</div>"
      ],
      "text/plain": [
       "    26  708.58\n",
       "0   25  700.01\n",
       "1   24  688.92\n",
       "2   23  701.45\n",
       "3   22  707.45\n",
       "4   19  695.03\n",
       "5   18  710.00\n",
       "6   17  699.00\n",
       "7   16  692.98\n",
       "8   12  690.26\n",
       "9   11  675.00\n",
       "10  10  686.86\n",
       "11   9  672.32\n",
       "12   8  667.85\n",
       "13   5  703.87\n",
       "14   4  722.81\n",
       "15   3  770.22\n",
       "16   2  784.50\n",
       "17   1  750.46"
      ]
     },
     "execution_count": 56,
     "metadata": {},
     "output_type": "execute_result"
    }
   ],
   "source": [
    "dataset   #dataset contain data of the csv file"
   ]
  },
  {
   "cell_type": "markdown",
   "metadata": {},
   "source": [
    "#### In the above dataset, we have the prices at which the stock opened from date 1 – date 26. Using this data, we will try to predict the price at which the stock will open on date 29."
   ]
  },
  {
   "cell_type": "code",
   "execution_count": 57,
   "metadata": {},
   "outputs": [
    {
     "data": {
      "text/plain": [
       "array([[25],\n",
       "       [24],\n",
       "       [23],\n",
       "       [22],\n",
       "       [19],\n",
       "       [18],\n",
       "       [17],\n",
       "       [16],\n",
       "       [12],\n",
       "       [11],\n",
       "       [10],\n",
       "       [ 9],\n",
       "       [ 8],\n",
       "       [ 5],\n",
       "       [ 4],\n",
       "       [ 3],\n",
       "       [ 2],\n",
       "       [ 1]], dtype=int64)"
      ]
     },
     "execution_count": 57,
     "metadata": {},
     "output_type": "execute_result"
    }
   ],
   "source": [
    "dates  #independent veriable"
   ]
  },
  {
   "cell_type": "code",
   "execution_count": 58,
   "metadata": {},
   "outputs": [
    {
     "data": {
      "text/plain": [
       "array([[700.01],\n",
       "       [688.92],\n",
       "       [701.45],\n",
       "       [707.45],\n",
       "       [695.03],\n",
       "       [710.  ],\n",
       "       [699.  ],\n",
       "       [692.98],\n",
       "       [690.26],\n",
       "       [675.  ],\n",
       "       [686.86],\n",
       "       [672.32],\n",
       "       [667.85],\n",
       "       [703.87],\n",
       "       [722.81],\n",
       "       [770.22],\n",
       "       [784.5 ],\n",
       "       [750.46]])"
      ]
     },
     "execution_count": 58,
     "metadata": {},
     "output_type": "execute_result"
    }
   ],
   "source": [
    "prices #dependent veriable"
   ]
  },
  {
   "cell_type": "code",
   "execution_count": 59,
   "metadata": {},
   "outputs": [],
   "source": [
    "dates = np.reshape(dates,(len(dates),1)) #reshaping the dates array\n",
    "prices = np.reshape(prices,(len(prices),1)) #reshaping the price array"
   ]
  },
  {
   "cell_type": "code",
   "execution_count": 60,
   "metadata": {},
   "outputs": [
    {
     "data": {
      "text/plain": [
       "array([[25],\n",
       "       [24],\n",
       "       [23],\n",
       "       [22],\n",
       "       [19],\n",
       "       [18],\n",
       "       [17],\n",
       "       [16],\n",
       "       [12],\n",
       "       [11],\n",
       "       [10],\n",
       "       [ 9],\n",
       "       [ 8],\n",
       "       [ 5],\n",
       "       [ 4],\n",
       "       [ 3],\n",
       "       [ 2],\n",
       "       [ 1]], dtype=int64)"
      ]
     },
     "execution_count": 60,
     "metadata": {},
     "output_type": "execute_result"
    }
   ],
   "source": [
    "dates"
   ]
  },
  {
   "cell_type": "code",
   "execution_count": 61,
   "metadata": {},
   "outputs": [
    {
     "data": {
      "text/plain": [
       "array([[700.01],\n",
       "       [688.92],\n",
       "       [701.45],\n",
       "       [707.45],\n",
       "       [695.03],\n",
       "       [710.  ],\n",
       "       [699.  ],\n",
       "       [692.98],\n",
       "       [690.26],\n",
       "       [675.  ],\n",
       "       [686.86],\n",
       "       [672.32],\n",
       "       [667.85],\n",
       "       [703.87],\n",
       "       [722.81],\n",
       "       [770.22],\n",
       "       [784.5 ],\n",
       "       [750.46]])"
      ]
     },
     "execution_count": 61,
     "metadata": {},
     "output_type": "execute_result"
    }
   ],
   "source": [
    "prices"
   ]
  },
  {
   "cell_type": "code",
   "execution_count": 62,
   "metadata": {},
   "outputs": [
    {
     "data": {
      "text/plain": [
       "LinearRegression(copy_X=True, fit_intercept=True, n_jobs=1, normalize=False)"
      ]
     },
     "execution_count": 62,
     "metadata": {},
     "output_type": "execute_result"
    }
   ],
   "source": [
    "from sklearn.linear_model import LinearRegression #import the linerregression class\n",
    "regression=LinearRegression()                     #make a class object  \n",
    "regression.fit(dates,prices)                      #fit the data set"
   ]
  },
  {
   "cell_type": "code",
   "execution_count": 63,
   "metadata": {},
   "outputs": [
    {
     "name": "stdout",
     "output_type": "stream",
     "text": [
      "(675.1892774200091, -1.9303174281223061, 731.168482835556)\n"
     ]
    }
   ],
   "source": [
    "predicted_price =regression.predict(29)           #predicting price on a required date\n",
    "predicted_price, coefficient, constant =predicted_price =predicted_price[0][0],regression.coef_[0][0] ,regression.intercept_[0]\n",
    "\n",
    "print(predicted_price)"
   ]
  },
  {
   "cell_type": "markdown",
   "metadata": {},
   "source": [
    "#### The above predicted price is showing the price of stock on the particular date and the other two results are slope and coefficient value "
   ]
  },
  {
   "cell_type": "code",
   "execution_count": 64,
   "metadata": {},
   "outputs": [
    {
     "data": {
      "image/png": "[encoded data removed]",
      "text/plain": [
       "<Figure size 432x288 with 1 Axes>"
      ]
     },
     "metadata": {},
     "output_type": "display_data"
    }
   ],
   "source": [
    "plt.scatter(dates,prices,color='yellow')\n",
    "plt.plot(dates,regression.predict(dates),color='blue',linewidth=3)\n",
    "plt.show()"
   ]
  },
  {
   "cell_type": "markdown",
   "metadata": {},
   "source": [
    "#### Now, we are goning to calculate the R^2 value to see how the data is fitted .\n",
    "\n",
    "#### R-squared is a statistical measure of how close the data are to the fitted regression line. It is also known as the coefficient of determinatio.R-squared is always between 0 and 100%.\n"
   ]
  },
  {
   "cell_type": "code",
   "execution_count": 65,
   "metadata": {},
   "outputs": [
    {
     "name": "stdout",
     "output_type": "stream",
     "text": [
      "SSTO : 17413.677894444445\n"
     ]
    }
   ],
   "source": [
    "#calculating total sum of squares\n",
    "avg=0\n",
    "for x in range(0,L):\n",
    "    avg+=prices[x][0]\n",
    "avg=avg/L\n",
    "ssto=0\n",
    "for x in range(0,L):\n",
    "    ssto+=(prices[x][0]-avg)**2\n",
    "print(\"SSTO :\",ssto)\n",
    "    "
   ]
  },
  {
   "cell_type": "code",
   "execution_count": 66,
   "metadata": {},
   "outputs": [
    {
     "name": "stdout",
     "output_type": "stream",
     "text": [
      "SSE : 13331.293534049993\n"
     ]
    }
   ],
   "source": [
    "#calculating error sum of squares\n",
    "sse=0\n",
    "for x in range(0,L):\n",
    "    sse+=(prices[x][0]-regression.predict(dates[x][0]))**2\n",
    "sse=sse[0][0]\n",
    "print(\"SSE :\",sse)"
   ]
  },
  {
   "cell_type": "code",
   "execution_count": 67,
   "metadata": {},
   "outputs": [
    {
     "name": "stdout",
     "output_type": "stream",
     "text": [
      "23.44355043857146 %\n"
     ]
    }
   ],
   "source": [
    "#calculate r squared\n",
    "r_s=1-(sse/ssto)\n",
    "r_s=r_s*100\n",
    "print(r_s,\"%\")"
   ]
  },
  {
   "cell_type": "markdown",
   "metadata": {},
   "source": [
    "#### R-squared does not indicate whether a regression model is adequate. You can have a low R-squared value for a good model, or a high R-squared value for a model that does not fit the data!"
   ]
  },
  {
   "cell_type": "code",
   "execution_count": 68,
   "metadata": {},
   "outputs": [
    {
     "name": "stdout",
     "output_type": "stream",
     "text": [
      "The stock open price for 29th day is: $ (675.1892774200091, -1.9303174281223061, 731.168482835556)\n",
      "The regression coefficient is  -1.9303174281223061 , and the constant is  731.168482835556\n",
      "the relationship equation between dates and prices is: price =  -1.9303174281223061 * date +  731.168482835556\n"
     ]
    }
   ],
   "source": [
    "print (\"The stock open price for 29th day is: $\",str(predicted_price))\n",
    "print (\"The regression coefficient is \",str(coefficient),\", and the constant is \", str(constant))\n",
    "print (\"the relationship equation between dates and prices is: price = \",str(coefficient),\"* date + \",str(constant))"
   ]
  },
  {
   "cell_type": "markdown",
   "metadata": {},
   "source": [
    "#### Here ,i am using a simple dataset ,the dataset can  be more complex on containing different parameters .There are many more methods to predict stock price like -Multiple regression ,SVM,Tensor Flow,etc linear regression is one of basic method to predict future stock price. "
   ]
  }
 ],
 "metadata": {
  "kernelspec": {
   "display_name": "Python 3",
   "language": "python",
   "name": "python3"
  },
  "language_info": {
   "codemirror_mode": {
    "name": "ipython",
    "version": 3
   },
   "file_extension": ".py",
   "mimetype": "text/x-python",
   "name": "python",
   "nbconvert_exporter": "python",
   "pygments_lexer": "ipython3",
   "version": "3.6.5"
  }
 },
 "nbformat": 4,
 "nbformat_minor": 2
}
